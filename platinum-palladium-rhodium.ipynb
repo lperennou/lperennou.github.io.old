{
 "cells": [
  {
   "cell_type": "code",
   "execution_count": 29,
   "metadata": {},
   "outputs": [],
   "source": [
    "import quandl\n",
    "import pandas as pd\n",
    "import matplotlib.pyplot as plt\n",
    "import numpy as np\n",
    "from sklearn import linear_model\n",
    "from authtoken import authtoken"
   ]
  },
  {
   "cell_type": "code",
   "execution_count": null,
   "metadata": {},
   "outputs": [],
   "source": [
    "cpi = quandl.get(\"RATEINF/CPI_USA\", authtoken=authtoken)\n",
    "pall=quandl.get(\"LPPM/PALL\")\n",
    "plat=quandl.get(\"LPPM/PLAT\")\n",
    "rhod=quandl.get(\"JOHNMATT/RHOD\")"
   ]
  },
  {
   "cell_type": "code",
   "execution_count": null,
   "metadata": {},
   "outputs": [],
   "source": [
    "prices = pd.DataFrame({'pall': pall['USD AM'], 'plat':plat['USD AM'], 'rhod': rhod['New York 9:30'], 'cpi':cpi['Value']})\n",
    "prices['cpi'] = prices['cpi'].fillna(method='ffill')\n",
    "prices = prices.dropna()\n",
    "prices['plat'] = prices['plat']/ prices['cpi']\n",
    "prices['pall'] = prices['pall']/ prices['cpi']\n",
    "prices['rhod'] = prices['rhod']/ prices['cpi']\n",
    "\n",
    "names = ['plat', 'pall', 'rhod']\n",
    "colors = ['r','g','b']"
   ]
  },
  {
   "cell_type": "markdown",
   "metadata": {},
   "source": [
    "# Individual price analysis"
   ]
  },
  {
   "cell_type": "markdown",
   "metadata": {},
   "source": [
    "To profit from the market, we must find a commodity that is undervalued or overvalued and whose price will correct quickly. \n",
    "Let's look at the inflation-ajusted price to compare valuations over long time scales. "
   ]
  },
  {
   "cell_type": "code",
   "execution_count": null,
   "metadata": {
    "scrolled": true
   },
   "outputs": [],
   "source": [
    "axes = prices.loc[:,names].plot(subplots=True, figsize=(14,10), sharex=False, color=colors)\n",
    "for name in ['pall','plat']:\n",
    "    lm = linear_model.LinearRegression()\n",
    "    X = np.array(range(len(prices.index.values))).reshape(-1, 1)\n",
    "    y = np.log10(prices[name])\n",
    "    lm.fit(X,y)\n",
    "    pred = lm.predict(X)\n",
    "    pred = 10**pred\n",
    "    prices[name+'_reg'] = pred\n",
    "    index = names.index(name)\n",
    "    ax = axes[index]\n",
    "    prices.loc[:,name+'_reg'].plot(ax=ax, color='k')\n",
    "    ax.legend([name, 'regression'])"
   ]
  },
  {
   "cell_type": "markdown",
   "metadata": {},
   "source": [
    "* Over the last 28 years, platinum prices varied (max/min ratio) by a factor 5, palladium by a factor 25, rhodium by a factor 50. We can expect to make money on rhodium and palladium, but hardly on platinum.\n",
    "* Rhodium prices look stationary whereas palladium and platinum prices could be trendy (regression line in black). Hence, we will use different methods to assess how likely it is that a commodity is over or under-valued. "
   ]
  },
  {
   "cell_type": "markdown",
   "metadata": {},
   "source": [
    "# Price multiples"
   ]
  },
  {
   "cell_type": "markdown",
   "metadata": {},
   "source": [
    "To determine if the price of commodity is stretched with respect to historic valuations, we plot the price ratio with respect to median price (rhodium) and regression price (platinum and palladium). "
   ]
  },
  {
   "cell_type": "code",
   "execution_count": null,
   "metadata": {},
   "outputs": [],
   "source": [
    "a = pd.DataFrame({'rhod': prices['rhod']/prices['rhod'].median(),\n",
    "                  'pall': prices['pall']/prices['pall_reg'],\n",
    "                  'plat': prices['plat']/prices['plat_reg']})\n",
    "\n",
    "a.loc[:,names].plot(figsize=(14,5), color=colors)"
   ]
  },
  {
   "cell_type": "markdown",
   "metadata": {},
   "source": [
    "* Rhodium: Current multiple (x6) suggests a bubble. But it could still go up and take years to burst like in 2006-2008. When the bubble bursts, expect prices to be divided by 6. \n",
    "* Palladium: Although historically high, price multiple are only half thoses of the 2001 bubble. \n",
    "* Platinum: Seems undervalued, but unfortunately platinum shows low volatility, especially to the upside. "
   ]
  },
  {
   "cell_type": "markdown",
   "metadata": {},
   "source": [
    "# price ratios"
   ]
  },
  {
   "cell_type": "markdown",
   "metadata": {},
   "source": [
    "Palladium and platinum are mainly used in the auto industry to reduce toxic gas emissions. In theory car manufacturers could substitute one metal for another when prices ratios are too streched. Let's look at historic prices ratios between the two metals. "
   ]
  },
  {
   "cell_type": "code",
   "execution_count": null,
   "metadata": {},
   "outputs": [],
   "source": [
    "ratio = pd.DataFrame({'pall-plat':prices['pall']/prices['plat'],\n",
    "                          'rhod-plat':prices['rhod']/prices['plat'],\n",
    "                          'rhod-pall':prices['rhod']/prices['pall']\n",
    "                         })\n",
    "ratio.loc[:,'pall-plat'].plot(figsize=(15,5))\n",
    "plt.title('palladium / platinum price ratio')\n",
    "plt.figure()\n",
    "ratio.loc[:,'rhod-plat'].plot(figsize=(15,5))\n",
    "plt.title('rhodium / platinum price ratio')"
   ]
  },
  {
   "cell_type": "markdown",
   "metadata": {},
   "source": [
    "* pall / plat ratio is at an all time high ! It has recently showed signed of volatility (end 2019). \n",
    "* The ratio has spent 90% of time below 1. How long can it maintain above 2 ? \n",
    "* The 2008 crisis hit both metals equally, the ratio didn't change at that time. "
   ]
  },
  {
   "cell_type": "markdown",
   "metadata": {},
   "source": [
    "# Price Variations"
   ]
  },
  {
   "cell_type": "code",
   "execution_count": null,
   "metadata": {},
   "outputs": [],
   "source": [
    "daily = 100*prices.loc[:,names].pct_change(periods=1)\n",
    "weekly = 100*prices.loc[:,names].pct_change(periods=7)\n",
    "monthly = 100*prices.loc[:,names].pct_change(periods=30)\n",
    "trimestre = 100*prices.loc[:,names].pct_change(periods=120)\n",
    "year  = 100*prices.loc[:,names].pct_change(periods=360)\n",
    "\n",
    "rplat = pd.DataFrame({'day':daily['plat'], 'week':weekly['plat'], 'month':monthly['plat'], 'trimestre':trimestre['plat'], 'year':year['plat']})\n",
    "rpall = pd.DataFrame({'day':daily['pall'], 'week':weekly['pall'], 'month':monthly['pall'], 'trimestre':trimestre['pall'], 'year':year['pall']})\n",
    "rrhod = pd.DataFrame({'day':daily['rhod'], 'week':weekly['rhod'], 'month':monthly['rhod'], 'trimestre':trimestre['rhod'], 'year':year['rhod']})\n",
    "\n",
    "freqs = ['month', 'trimestre']\n",
    "rpall.loc[:,freqs].rolling(15).mean().plot(figsize=(15,7))\n",
    "rrhod.loc[:,freqs].rolling(15).mean().plot(figsize=(15,7))\n",
    "#axes = year.plot(subplots=True, figsize=(15,10), color=colors)\n",
    "#for ax in axes:\n",
    "#    ax.axhline(y=0,color='black')"
   ]
  },
  {
   "cell_type": "markdown",
   "metadata": {},
   "source": [
    "TODO"
   ]
  },
  {
   "cell_type": "markdown",
   "metadata": {},
   "source": [
    "# Conclusion\n",
    "Over the last 28 years, the three main components of the platinum group metals have shown rapid price bubbles build up and burst: palladium (%6 after the 2001 burst), platinum  and platinum (%8 and %2 respectively in 2008). \n",
    "\n",
    "Looking at multiples to historic prices and price ratios between elements of the metal groups, we showed that a third bubble is building for rhodium and palladium. "
   ]
  },
  {
   "cell_type": "code",
   "execution_count": null,
   "metadata": {},
   "outputs": [],
   "source": []
  },
  {
   "cell_type": "code",
   "execution_count": null,
   "metadata": {},
   "outputs": [],
   "source": []
  },
  {
   "cell_type": "code",
   "execution_count": null,
   "metadata": {},
   "outputs": [],
   "source": []
  },
  {
   "cell_type": "code",
   "execution_count": null,
   "metadata": {},
   "outputs": [],
   "source": []
  }
 ],
 "metadata": {
  "kernelspec": {
   "display_name": "Python 3",
   "language": "python",
   "name": "python3"
  },
  "language_info": {
   "codemirror_mode": {
    "name": "ipython",
    "version": 3
   },
   "file_extension": ".py",
   "mimetype": "text/x-python",
   "name": "python",
   "nbconvert_exporter": "python",
   "pygments_lexer": "ipython3",
   "version": "3.7.4"
  }
 },
 "nbformat": 4,
 "nbformat_minor": 2
}
